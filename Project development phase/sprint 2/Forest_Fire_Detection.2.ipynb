{
  "nbformat": 4,
  "nbformat_minor": 0,
  "metadata": {
    "colab": {
      "provenance": []
    },
    "kernelspec": {
      "name": "python3",
      "display_name": "Python 3"
    },
    "language_info": {
      "name": "python"
    }
  },
  "cells": [
    {
      "cell_type": "code",
      "execution_count": null,
      "metadata": {
        "id": "OyrcYtCUolEe"
      },
      "outputs": [],
      "source": [
        "\n",
        "Importing the Required Libraries\n",
        "\n",
        "import keras\n",
        "import tensorflow\n",
        "\n",
        "from tensorflow.keras.preprocessing.image import ImageDataGenerator\n",
        "train_datagen = ImageDataGenerator(rescale=1./255,\n",
        "                                   shear_range=0.2,\n",
        "                                   rotation_range=180,\n",
        "                                   zoom_range=0.2,\n",
        "                                   horizontal_flip=True)\n",
        "\n",
        "test_datagen = ImageDataGenerator(rescale=1./255)\n",
        "Collecting The Dataset\n",
        "\n",
        "x_train = train_datagen.flow_from_directory(r'./Dataset/train_set/',\n",
        "                                            target_size=(128, 128),\n",
        "                                            batch_size=32,\n",
        "                                            class_mode='binary')\n",
        "Found 436 images belonging to 2 classes.\n",
        "x_test = train_datagen.flow_from_directory(r'./Dataset/test_set/',\n",
        "                                            target_size=(128, 128),\n",
        "                                            batch_size=32,\n",
        "                                            class_mode='binary')\n",
        "Found 121 images belonging to 2 classes.\n",
        "Importing the model building library\n",
        "\n",
        "from tensorflow.keras.models import Sequential\n",
        "from tensorflow.keras.layers import Dense, Convolution2D, MaxPooling2D, Flatten\n",
        "model = Sequential()\n",
        "model.add(Convolution2D(32, (3,3), input_shape=(128, 128, 3), activation=\"relu\"))\n",
        "model.add(MaxPooling2D(pool_size=(2,2)))\n",
        "model.add(Flatten())\n",
        "model.add(Dense(150,activation=\"relu\"))\n",
        "model.add(Dense(1, activation=\"sigmoid\"))\n",
        "Compiling the model\n",
        "\n",
        "model.compile(loss=\"binary_crossentropy\",\n",
        "              optimizer=\"adam\",\n",
        "              metrics=[\"accuracy\"])\n",
        "Training and Testing the model\n",
        "\n",
        "model.fit(x_train, steps_per_epoch=14, epochs=10, validation_data=x_test, validation_steps=4)\n",
        "Epoch 1/10\n",
        "14/14 [==============================] - 49s 3s/step - loss: 3.5333 - accuracy: 0.6468 - val_loss: 1.0371 - val_accuracy: 0.6446\n",
        "Epoch 2/10\n",
        "14/14 [==============================] - 23s 2s/step - loss: 0.5403 - accuracy: 0.7821 - val_loss: 0.1202 - val_accuracy: 0.9587\n",
        "Epoch 3/10\n",
        "14/14 [==============================] - 23s 2s/step - loss: 0.2700 - accuracy: 0.8830 - val_loss: 0.1426 - val_accuracy: 0.9256\n",
        "Epoch 4/10\n",
        "14/14 [==============================] - 23s 2s/step - loss: 0.2231 - accuracy: 0.9037 - val_loss: 0.1270 - val_accuracy: 0.9587\n",
        "Epoch 5/10\n",
        "14/14 [==============================] - 23s 2s/step - loss: 0.2067 - accuracy: 0.9243 - val_loss: 0.1042 - val_accuracy: 0.9669\n",
        "Epoch 6/10\n",
        "14/14 [==============================] - 24s 2s/step - loss: 0.1814 - accuracy: 0.9151 - val_loss: 0.0921 - val_accuracy: 0.9752\n",
        "Epoch 7/10\n",
        "14/14 [==============================] - 23s 2s/step - loss: 0.1929 - accuracy: 0.9128 - val_loss: 0.1044 - val_accuracy: 0.9752\n",
        "Epoch 8/10\n",
        "14/14 [==============================] - 22s 2s/step - loss: 0.1726 - accuracy: 0.9243 - val_loss: 0.0856 - val_accuracy: 0.9752\n",
        "Epoch 9/10\n",
        "14/14 [==============================] - 21s 1s/step - loss: 0.1535 - accuracy: 0.9381 - val_loss: 0.0759 - val_accuracy: 0.9835\n",
        "Epoch 10/10\n",
        "14/14 [==============================] - 24s 2s/step - loss: 0.1574 - accuracy: 0.9404 - val_loss: 0.0826 - val_accuracy: 0.9587\n",
        "Save the model\n",
        "\n",
        "model.save(\"model.h5\")"
      ]
    }
  ]
}