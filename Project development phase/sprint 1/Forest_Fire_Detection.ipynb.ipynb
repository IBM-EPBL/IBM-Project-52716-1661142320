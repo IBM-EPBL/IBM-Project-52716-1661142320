{
  "nbformat": 4,
  "nbformat_minor": 0,
  "metadata": {
    "colab": {
      "provenance": []
    },
    "kernelspec": {
      "name": "python3",
      "display_name": "Python 3"
    },
    "language_info": {
      "name": "python"
    }
  },
  "cells": [
    {
      "cell_type": "code",
      "execution_count": null,
      "metadata": {
        "id": "vNkhYWpjoHbM"
      },
      "outputs": [],
      "source": [
        "\n",
        "Importing the Required Libraries\n",
        "\n",
        "import keras\n",
        "import tensorflow\n",
        "\n",
        "from tensorflow.keras.preprocessing.image import ImageDataGenerator\n",
        "train_datagen = ImageDataGenerator(rescale=1./255,\n",
        "                                   shear_range=0.2,\n",
        "                                   rotation_range=180,\n",
        "                                   zoom_range=0.2,\n",
        "                                   horizontal_flip=True)\n",
        "\n",
        "test_datagen = ImageDataGenerator(rescale=1./255)\n",
        "Collecting The Dataset\n",
        "\n",
        "x_train = train_datagen.flow_from_directory(r'./Dataset/train_set/',\n",
        "                                            target_size=(128, 128),\n",
        "                                            batch_size=32,\n",
        "                                            class_mode='binary')\n",
        "Found 436 images belonging to 2 classes.\n",
        "x_test = train_datagen.flow_from_directory(r'./Dataset/test_set/',\n",
        "                                            target_size=(128, 128),\n",
        "                                            batch_size=32,\n",
        "                                            class_mode='binary')\n",
        "Found 121 images belonging to 2 classes."
      ]
    }
  ]
}