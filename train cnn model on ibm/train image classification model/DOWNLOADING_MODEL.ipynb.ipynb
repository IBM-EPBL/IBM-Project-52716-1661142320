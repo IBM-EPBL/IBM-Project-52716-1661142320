{
  "nbformat": 4,
  "nbformat_minor": 0,
  "metadata": {
    "colab": {
      "provenance": []
    },
    "kernelspec": {
      "name": "python3",
      "display_name": "Python 3"
    },
    "language_info": {
      "name": "python"
    }
  },
  "cells": [
    {
      "cell_type": "code",
      "execution_count": null,
      "metadata": {
        "id": "QbIqkX432nuA"
      },
      "outputs": [],
      "source": [
        "\n",
        "from ibm_watson_machine_learning import APIClient\n",
        "wml_credentials={\n",
        "                \"url\":\"https://us-south.ml.cloud.ibm.com\",\n",
        "                \"apikey\":\"o6-O-gzl2Z0Hz-9MW4qWW7w69zs653NVAssTw-8Qzbjv\"\n",
        "                }\n",
        "client=APIClient(wml_credentials)\n",
        "def guid_from_space_name(client,space_name):\n",
        "    space=client.spaces.get_details()\n",
        "    return(next(item for item in space['resources'] if item['entity'][\"name\"] == space_name)['metadata']['id'])\n",
        "space_uid = guid_from_space_name(client,'Forest-Fire')\n",
        "print(\"Space UID = \" + space_uid)\n",
        "Space UID = 4d322604-f8b8-40ed-8294-aee769939be4\n",
        "client.set.default_space(space_uid)\n",
        "'SUCCESS'\n",
        "client.repository.download(\"e712b07b-08d6-47d3-9e98-d92a91080274\",'forest.tar.gz')\n",
        " "
      ]
    }
  ]
}